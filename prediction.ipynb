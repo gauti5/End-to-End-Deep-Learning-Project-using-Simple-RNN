{
 "cells": [
  {
   "cell_type": "code",
   "execution_count": 25,
   "metadata": {},
   "outputs": [],
   "source": [
    "import numpy as np \n",
    "import pandas as pd \n",
    "import tensorflow as tf \n",
    "from tensorflow.keras.datasets import imdb \n",
    "from tensorflow.keras.preprocessing import sequence\n",
    "from tensorflow.keras.models import load_model"
   ]
  },
  {
   "cell_type": "code",
   "execution_count": 26,
   "metadata": {},
   "outputs": [],
   "source": [
    "word_index=imdb.get_word_index()\n",
    "#word_index\n",
    "reverse_word_index = {value: key for key, value in word_index.items()}"
   ]
  },
  {
   "cell_type": "code",
   "execution_count": 27,
   "metadata": {},
   "outputs": [
    {
     "name": "stderr",
     "output_type": "stream",
     "text": [
      "WARNING:absl:Compiled the loaded model, but the compiled metrics have yet to be built. `model.compile_metrics` will be empty until you train or evaluate the model.\n"
     ]
    },
    {
     "data": {
      "text/html": [
       "<pre style=\"white-space:pre;overflow-x:auto;line-height:normal;font-family:Menlo,'DejaVu Sans Mono',consolas,'Courier New',monospace\"><span style=\"font-weight: bold\">Model: \"sequential\"</span>\n",
       "</pre>\n"
      ],
      "text/plain": [
       "\u001b[1mModel: \"sequential\"\u001b[0m\n"
      ]
     },
     "metadata": {},
     "output_type": "display_data"
    },
    {
     "data": {
      "text/html": [
       "<pre style=\"white-space:pre;overflow-x:auto;line-height:normal;font-family:Menlo,'DejaVu Sans Mono',consolas,'Courier New',monospace\">┏━━━━━━━━━━━━━━━━━━━━━━━━━━━━━━━━━┳━━━━━━━━━━━━━━━━━━━━━━━━┳━━━━━━━━━━━━━━━┓\n",
       "┃<span style=\"font-weight: bold\"> Layer (type)                    </span>┃<span style=\"font-weight: bold\"> Output Shape           </span>┃<span style=\"font-weight: bold\">       Param # </span>┃\n",
       "┡━━━━━━━━━━━━━━━━━━━━━━━━━━━━━━━━━╇━━━━━━━━━━━━━━━━━━━━━━━━╇━━━━━━━━━━━━━━━┩\n",
       "│ embedding (<span style=\"color: #0087ff; text-decoration-color: #0087ff\">Embedding</span>)           │ (<span style=\"color: #00af00; text-decoration-color: #00af00\">32</span>, <span style=\"color: #00af00; text-decoration-color: #00af00\">500</span>, <span style=\"color: #00af00; text-decoration-color: #00af00\">128</span>)         │     <span style=\"color: #00af00; text-decoration-color: #00af00\">1,280,000</span> │\n",
       "├─────────────────────────────────┼────────────────────────┼───────────────┤\n",
       "│ simple_rnn (<span style=\"color: #0087ff; text-decoration-color: #0087ff\">SimpleRNN</span>)          │ (<span style=\"color: #00af00; text-decoration-color: #00af00\">32</span>, <span style=\"color: #00af00; text-decoration-color: #00af00\">128</span>)              │        <span style=\"color: #00af00; text-decoration-color: #00af00\">32,896</span> │\n",
       "├─────────────────────────────────┼────────────────────────┼───────────────┤\n",
       "│ dense (<span style=\"color: #0087ff; text-decoration-color: #0087ff\">Dense</span>)                   │ (<span style=\"color: #00af00; text-decoration-color: #00af00\">32</span>, <span style=\"color: #00af00; text-decoration-color: #00af00\">1</span>)                │           <span style=\"color: #00af00; text-decoration-color: #00af00\">129</span> │\n",
       "└─────────────────────────────────┴────────────────────────┴───────────────┘\n",
       "</pre>\n"
      ],
      "text/plain": [
       "┏━━━━━━━━━━━━━━━━━━━━━━━━━━━━━━━━━┳━━━━━━━━━━━━━━━━━━━━━━━━┳━━━━━━━━━━━━━━━┓\n",
       "┃\u001b[1m \u001b[0m\u001b[1mLayer (type)                   \u001b[0m\u001b[1m \u001b[0m┃\u001b[1m \u001b[0m\u001b[1mOutput Shape          \u001b[0m\u001b[1m \u001b[0m┃\u001b[1m \u001b[0m\u001b[1m      Param #\u001b[0m\u001b[1m \u001b[0m┃\n",
       "┡━━━━━━━━━━━━━━━━━━━━━━━━━━━━━━━━━╇━━━━━━━━━━━━━━━━━━━━━━━━╇━━━━━━━━━━━━━━━┩\n",
       "│ embedding (\u001b[38;5;33mEmbedding\u001b[0m)           │ (\u001b[38;5;34m32\u001b[0m, \u001b[38;5;34m500\u001b[0m, \u001b[38;5;34m128\u001b[0m)         │     \u001b[38;5;34m1,280,000\u001b[0m │\n",
       "├─────────────────────────────────┼────────────────────────┼───────────────┤\n",
       "│ simple_rnn (\u001b[38;5;33mSimpleRNN\u001b[0m)          │ (\u001b[38;5;34m32\u001b[0m, \u001b[38;5;34m128\u001b[0m)              │        \u001b[38;5;34m32,896\u001b[0m │\n",
       "├─────────────────────────────────┼────────────────────────┼───────────────┤\n",
       "│ dense (\u001b[38;5;33mDense\u001b[0m)                   │ (\u001b[38;5;34m32\u001b[0m, \u001b[38;5;34m1\u001b[0m)                │           \u001b[38;5;34m129\u001b[0m │\n",
       "└─────────────────────────────────┴────────────────────────┴───────────────┘\n"
      ]
     },
     "metadata": {},
     "output_type": "display_data"
    },
    {
     "data": {
      "text/html": [
       "<pre style=\"white-space:pre;overflow-x:auto;line-height:normal;font-family:Menlo,'DejaVu Sans Mono',consolas,'Courier New',monospace\"><span style=\"font-weight: bold\"> Total params: </span><span style=\"color: #00af00; text-decoration-color: #00af00\">1,313,027</span> (5.01 MB)\n",
       "</pre>\n"
      ],
      "text/plain": [
       "\u001b[1m Total params: \u001b[0m\u001b[38;5;34m1,313,027\u001b[0m (5.01 MB)\n"
      ]
     },
     "metadata": {},
     "output_type": "display_data"
    },
    {
     "data": {
      "text/html": [
       "<pre style=\"white-space:pre;overflow-x:auto;line-height:normal;font-family:Menlo,'DejaVu Sans Mono',consolas,'Courier New',monospace\"><span style=\"font-weight: bold\"> Trainable params: </span><span style=\"color: #00af00; text-decoration-color: #00af00\">1,313,025</span> (5.01 MB)\n",
       "</pre>\n"
      ],
      "text/plain": [
       "\u001b[1m Trainable params: \u001b[0m\u001b[38;5;34m1,313,025\u001b[0m (5.01 MB)\n"
      ]
     },
     "metadata": {},
     "output_type": "display_data"
    },
    {
     "data": {
      "text/html": [
       "<pre style=\"white-space:pre;overflow-x:auto;line-height:normal;font-family:Menlo,'DejaVu Sans Mono',consolas,'Courier New',monospace\"><span style=\"font-weight: bold\"> Non-trainable params: </span><span style=\"color: #00af00; text-decoration-color: #00af00\">0</span> (0.00 B)\n",
       "</pre>\n"
      ],
      "text/plain": [
       "\u001b[1m Non-trainable params: \u001b[0m\u001b[38;5;34m0\u001b[0m (0.00 B)\n"
      ]
     },
     "metadata": {},
     "output_type": "display_data"
    },
    {
     "data": {
      "text/html": [
       "<pre style=\"white-space:pre;overflow-x:auto;line-height:normal;font-family:Menlo,'DejaVu Sans Mono',consolas,'Courier New',monospace\"><span style=\"font-weight: bold\"> Optimizer params: </span><span style=\"color: #00af00; text-decoration-color: #00af00\">2</span> (12.00 B)\n",
       "</pre>\n"
      ],
      "text/plain": [
       "\u001b[1m Optimizer params: \u001b[0m\u001b[38;5;34m2\u001b[0m (12.00 B)\n"
      ]
     },
     "metadata": {},
     "output_type": "display_data"
    }
   ],
   "source": [
    "model=load_model('simple_rnn_imdb.h5')\n",
    "model.summary()"
   ]
  },
  {
   "cell_type": "code",
   "execution_count": 28,
   "metadata": {},
   "outputs": [
    {
     "data": {
      "text/plain": [
       "[array([[ 0.1793294 ,  0.00689442,  0.02415663, ..., -0.22892588,\n",
       "         -0.09830446,  0.256877  ],\n",
       "        [-0.00365568,  0.08113044,  0.01005473, ..., -0.04909457,\n",
       "          0.00701549,  0.05448375],\n",
       "        [-0.02392269, -0.11869095, -0.04356055, ..., -0.14008226,\n",
       "         -0.11008866,  0.1631688 ],\n",
       "        ...,\n",
       "        [ 0.06762876, -0.00332567, -0.03949767, ..., -0.00490948,\n",
       "         -0.04915133, -0.00741242],\n",
       "        [-0.14294527, -0.13960846,  0.13702196, ..., -0.01220918,\n",
       "         -0.00812669,  0.12766817],\n",
       "        [ 0.04190543,  0.05643546, -0.10653296, ...,  0.00658809,\n",
       "          0.03661713, -0.06956659]], dtype=float32),\n",
       " array([[ 0.09483209,  0.06840172,  0.10334531, ..., -0.01621375,\n",
       "          0.02730072,  0.1723566 ],\n",
       "        [ 0.1563323 ,  0.04165955,  0.08787041, ..., -0.00837017,\n",
       "          0.19230433, -0.0759562 ],\n",
       "        [-0.14933649,  0.0231457 ,  0.04986577, ...,  0.02049975,\n",
       "          0.05889971, -0.04607728],\n",
       "        ...,\n",
       "        [ 0.03108758,  0.09565256, -0.02759217, ...,  0.04735213,\n",
       "          0.15632214,  0.08388386],\n",
       "        [ 0.11368074,  0.02073836,  0.04860372, ...,  0.07164834,\n",
       "         -0.11107962, -0.07274601],\n",
       "        [-0.08983199,  0.0577231 ,  0.0486858 , ...,  0.02623691,\n",
       "         -0.19556165, -0.01452148]], dtype=float32),\n",
       " array([[-0.14656618, -0.14949374, -0.09547573, ..., -0.06147229,\n",
       "          0.0524348 ,  0.00425606],\n",
       "        [ 0.04281819, -0.06163056, -0.06408595, ..., -0.08187068,\n",
       "         -0.01413383, -0.11704758],\n",
       "        [-0.00871245,  0.0880723 , -0.07652997, ..., -0.12207825,\n",
       "          0.05953637,  0.12670036],\n",
       "        ...,\n",
       "        [-0.23582837,  0.08382704,  0.13523905, ...,  0.08670931,\n",
       "         -0.00454663, -0.12016877],\n",
       "        [-0.04561647, -0.20153306,  0.00556673, ...,  0.0198783 ,\n",
       "         -0.05381751, -0.13872561],\n",
       "        [-0.03407495, -0.06275971, -0.01103841, ...,  0.0760879 ,\n",
       "          0.21453145, -0.10044952]], dtype=float32),\n",
       " array([ 5.81969693e-03, -1.36796152e-02, -1.98262348e-03,  2.07031425e-02,\n",
       "        -1.93328820e-02,  5.80549613e-03,  1.81600507e-02, -6.48128521e-03,\n",
       "        -1.93682499e-02,  9.71768331e-03,  6.88785501e-03,  4.91725318e-02,\n",
       "        -1.51077406e-02, -1.14670955e-02, -3.76723371e-02,  2.29820833e-02,\n",
       "         3.39215174e-02, -2.57399082e-02, -4.99539077e-03,  2.32289825e-02,\n",
       "        -2.78930180e-04, -1.55568263e-02, -4.30397427e-04, -2.43585557e-02,\n",
       "        -1.77169256e-02, -3.41925621e-02, -2.25040149e-02, -1.08941440e-02,\n",
       "         2.90672984e-02,  1.19287800e-02,  1.77296307e-02,  8.04598629e-02,\n",
       "         7.46364100e-03,  2.19518207e-02,  2.09419150e-02, -1.70115922e-02,\n",
       "         1.60567351e-02,  2.33712364e-02, -1.79147106e-02, -2.03926619e-02,\n",
       "        -7.62947835e-03,  2.15007775e-02,  1.24069331e-02, -1.96500421e-02,\n",
       "        -1.84768724e-05, -4.47166292e-03,  7.83614721e-03,  5.96089400e-02,\n",
       "        -7.99776800e-03, -2.12067049e-02,  1.34505071e-02, -2.51065288e-02,\n",
       "         1.74061209e-02, -2.81256456e-02,  1.70418210e-02, -3.77340280e-02,\n",
       "        -5.27750934e-03, -1.38643468e-02, -1.99481156e-02, -6.87342510e-03,\n",
       "         1.68237388e-02, -2.38073114e-02,  5.26895672e-02, -1.04319742e-02,\n",
       "         2.21385080e-02, -1.28464792e-02,  1.90594159e-02, -3.00630126e-02,\n",
       "        -3.78955971e-03, -2.59376392e-02,  1.79745518e-02, -5.01500964e-02,\n",
       "        -2.47523934e-02, -1.95923056e-02,  1.55331865e-02, -1.87080652e-02,\n",
       "         2.00842489e-02, -1.16950739e-02, -1.52987912e-02, -3.69791202e-02,\n",
       "         1.38625465e-02, -5.57642197e-03, -2.88018957e-02,  3.91245000e-02,\n",
       "        -2.38567814e-02, -2.05379296e-02,  3.56094167e-02, -2.51810942e-02,\n",
       "         1.21223256e-02,  2.33308710e-02,  1.92038044e-02, -1.85490213e-02,\n",
       "         6.02838304e-03,  1.40856337e-02, -2.89653931e-02, -2.31366735e-02,\n",
       "        -1.22848991e-02, -9.13834851e-03, -2.40295641e-02, -1.63336210e-02,\n",
       "        -9.52435285e-03,  2.59138774e-02, -1.66124068e-02, -2.20121350e-02,\n",
       "        -3.23662767e-03, -9.82813630e-03,  2.98301000e-02, -1.69433150e-02,\n",
       "        -1.14779407e-03,  2.48242058e-02, -3.09124961e-02, -1.55589646e-02,\n",
       "        -1.67872552e-02, -3.43162380e-02,  1.34064248e-02, -4.31719748e-03,\n",
       "        -1.71713084e-02,  1.40618999e-02,  9.26954485e-03,  2.17741057e-02,\n",
       "         2.24029031e-02,  1.22354794e-02, -2.07576416e-02, -4.67152521e-03,\n",
       "        -8.36325344e-03, -1.65357292e-02, -1.72037520e-02, -4.06002533e-03],\n",
       "       dtype=float32),\n",
       " array([[-0.1255413 ],\n",
       "        [-0.04720005],\n",
       "        [ 0.04842146],\n",
       "        [ 0.14042133],\n",
       "        [ 0.19577672],\n",
       "        [-0.1751848 ],\n",
       "        [-0.06250446],\n",
       "        [ 0.14579758],\n",
       "        [ 0.00202359],\n",
       "        [-0.19784616],\n",
       "        [-0.00726303],\n",
       "        [-0.24834228],\n",
       "        [ 0.18519166],\n",
       "        [-0.17672054],\n",
       "        [-0.08763734],\n",
       "        [ 0.19714698],\n",
       "        [ 0.17983405],\n",
       "        [-0.00451383],\n",
       "        [ 0.08373671],\n",
       "        [ 0.08054984],\n",
       "        [-0.03874937],\n",
       "        [-0.18426694],\n",
       "        [-0.07110023],\n",
       "        [-0.00177135],\n",
       "        [ 0.18024734],\n",
       "        [ 0.16100389],\n",
       "        [-0.12163322],\n",
       "        [-0.24360713],\n",
       "        [ 0.19652401],\n",
       "        [ 0.1416453 ],\n",
       "        [-0.00409416],\n",
       "        [-0.29309437],\n",
       "        [ 0.25434658],\n",
       "        [-0.02143298],\n",
       "        [-0.21754616],\n",
       "        [ 0.0644936 ],\n",
       "        [ 0.14834587],\n",
       "        [ 0.14998168],\n",
       "        [-0.17744134],\n",
       "        [-0.00904236],\n",
       "        [ 0.01644429],\n",
       "        [-0.1911116 ],\n",
       "        [ 0.09867949],\n",
       "        [ 0.02657107],\n",
       "        [ 0.01098621],\n",
       "        [-0.06608632],\n",
       "        [ 0.24155359],\n",
       "        [-0.2910371 ],\n",
       "        [-0.09925786],\n",
       "        [ 0.10585342],\n",
       "        [-0.23979132],\n",
       "        [-0.13992193],\n",
       "        [ 0.12858409],\n",
       "        [ 0.15155135],\n",
       "        [ 0.1522665 ],\n",
       "        [-0.09421203],\n",
       "        [-0.13289736],\n",
       "        [-1.4706223 ],\n",
       "        [-0.05929332],\n",
       "        [ 0.1247919 ],\n",
       "        [ 0.20626804],\n",
       "        [-0.13497783],\n",
       "        [-0.1349617 ],\n",
       "        [ 0.17738493],\n",
       "        [ 0.09384256],\n",
       "        [-0.05369594],\n",
       "        [ 0.03750989],\n",
       "        [-0.04506261],\n",
       "        [ 0.16466534],\n",
       "        [-0.18496503],\n",
       "        [-0.00246928],\n",
       "        [-0.09218397],\n",
       "        [ 0.08005155],\n",
       "        [ 0.04553564],\n",
       "        [-0.11918004],\n",
       "        [-0.07454704],\n",
       "        [ 0.2010411 ],\n",
       "        [-0.22866239],\n",
       "        [-0.18904075],\n",
       "        [-0.17984429],\n",
       "        [-0.15057148],\n",
       "        [-0.03478922],\n",
       "        [ 0.15829034],\n",
       "        [ 0.1203303 ],\n",
       "        [ 0.20933002],\n",
       "        [ 0.17841043],\n",
       "        [-0.23057811],\n",
       "        [-0.04529622],\n",
       "        [ 0.11262836],\n",
       "        [ 0.07532033],\n",
       "        [-0.3548922 ],\n",
       "        [-0.5139056 ],\n",
       "        [-0.11874027],\n",
       "        [ 0.0138193 ],\n",
       "        [-0.28322816],\n",
       "        [-0.68580526],\n",
       "        [-0.5520736 ],\n",
       "        [ 0.01967929],\n",
       "        [-0.1903973 ],\n",
       "        [-0.20626721],\n",
       "        [-0.06309868],\n",
       "        [ 0.18580854],\n",
       "        [-0.23280925],\n",
       "        [-0.13419747],\n",
       "        [ 0.24116714],\n",
       "        [ 0.12042755],\n",
       "        [ 0.14489055],\n",
       "        [ 0.19392733],\n",
       "        [ 0.19871025],\n",
       "        [-1.0522248 ],\n",
       "        [-0.10706507],\n",
       "        [ 0.02239779],\n",
       "        [-0.13403709],\n",
       "        [ 0.09981028],\n",
       "        [-0.2299225 ],\n",
       "        [-0.08450123],\n",
       "        [-0.18492034],\n",
       "        [-0.15279225],\n",
       "        [-0.1596487 ],\n",
       "        [ 0.065377  ],\n",
       "        [ 0.06484868],\n",
       "        [-0.06688549],\n",
       "        [ 0.08354948],\n",
       "        [ 0.25393263],\n",
       "        [-0.05343292],\n",
       "        [ 0.02729041],\n",
       "        [ 0.00501984],\n",
       "        [ 0.11588487]], dtype=float32),\n",
       " array([-1.1382327], dtype=float32)]"
      ]
     },
     "execution_count": 28,
     "metadata": {},
     "output_type": "execute_result"
    }
   ],
   "source": [
    "model.get_weights()"
   ]
  },
  {
   "cell_type": "code",
   "execution_count": 29,
   "metadata": {},
   "outputs": [],
   "source": [
    "# Function to decode reviews \n",
    "\n",
    "def decode_review(encoded_review):\n",
    "    return ' '.join([reverse_word_index.get(i-3, '?') for i in encoded_review])\n",
    "\n",
    "# function to preprocess the user input\n",
    "\n",
    "def preprocess_text(text):\n",
    "    words=text.lower().split()\n",
    "    encoded_review=[word_index.get(word, 2) + 3 for word in words]\n",
    "    padded_review=sequence.pad_sequences([encoded_review], maxlen=500)\n",
    "    return padded_review"
   ]
  },
  {
   "cell_type": "code",
   "execution_count": 30,
   "metadata": {},
   "outputs": [],
   "source": [
    "# Prediction function\n",
    "\n",
    "def predict_sentiment(review):\n",
    "    preprocessed_input=preprocess_text(review)\n",
    "    prediction=model.predict(preprocessed_input)\n",
    "    sentiment='Positive' if prediction[0][0]>0.5 else 'Negative'\n",
    "    return sentiment, prediction[0][0]\n",
    "    "
   ]
  },
  {
   "cell_type": "code",
   "execution_count": 31,
   "metadata": {},
   "outputs": [],
   "source": [
    "example_review = \"This movie was Worst! The acting was average and the plot was average\""
   ]
  },
  {
   "cell_type": "code",
   "execution_count": 32,
   "metadata": {},
   "outputs": [
    {
     "name": "stdout",
     "output_type": "stream",
     "text": [
      "\u001b[1m1/1\u001b[0m \u001b[32m━━━━━━━━━━━━━━━━━━━━\u001b[0m\u001b[37m\u001b[0m \u001b[1m0s\u001b[0m 236ms/step\n",
      "Example Review : This movie was Worst! The acting was average and the plot was average\n",
      "Sentiment : Negative\n",
      "Prediction Score : 0.014514065347611904\n"
     ]
    }
   ],
   "source": [
    "sentiment, score=predict_sentiment(example_review)\n",
    "\n",
    "print(f\"Example Review : {example_review}\")\n",
    "print(f\"Sentiment : {sentiment}\")\n",
    "print(f\"Prediction Score : {score}\")"
   ]
  },
  {
   "cell_type": "code",
   "execution_count": null,
   "metadata": {},
   "outputs": [],
   "source": []
  },
  {
   "cell_type": "code",
   "execution_count": null,
   "metadata": {},
   "outputs": [],
   "source": []
  }
 ],
 "metadata": {
  "kernelspec": {
   "display_name": ".venv",
   "language": "python",
   "name": "python3"
  },
  "language_info": {
   "codemirror_mode": {
    "name": "ipython",
    "version": 3
   },
   "file_extension": ".py",
   "mimetype": "text/x-python",
   "name": "python",
   "nbconvert_exporter": "python",
   "pygments_lexer": "ipython3",
   "version": "3.12.0"
  }
 },
 "nbformat": 4,
 "nbformat_minor": 2
}
